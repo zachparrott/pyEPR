{
 "cells": [
  {
   "cell_type": "markdown",
   "metadata": {},
   "source": [
    "# Tutorial 1. Parametric sweep options\n",
    "\n",
    "<table>\n",
    "    <tr>\n",
    "        <td>Auhor:</td>\n",
    "        <td>Zachary Parrott   </td>\n",
    "    </tr>\n",
    "    <tr>\n",
    "        <td>Purpose:</td>\n",
    "        <td>Demonstrate available options for creating parametric sweeps.\n",
    "        </td>\n",
    "     </tr>\n",
    "        <td>File Status:</td>\n",
    "        <td>In construction </td>\n",
    "    </tr>\n",
    "</table>"
   ]
  },
  {
   "cell_type": "code",
   "execution_count": 1,
   "metadata": {},
   "outputs": [],
   "source": [
    "%load_ext autoreload\n",
    "%autoreload 2\n",
    "\n",
    "import pyEPR as epr"
   ]
  },
  {
   "cell_type": "markdown",
   "metadata": {},
   "source": [
    "## Connect to example project"
   ]
  },
  {
   "cell_type": "code",
   "execution_count": 2,
   "metadata": {},
   "outputs": [
    {
     "name": "stderr",
     "output_type": "stream",
     "text": [
      "INFO 02:31PM [connect_project]: Connecting to Ansys Desktop API...\n",
      "INFO 02:31PM [load_ansys_project]: \tFile path to HFSS project found.\n",
      "INFO 02:31PM [load_ansys_project]: \tOpened Ansys App\n",
      "INFO 02:31PM [load_ansys_project]: \tOpened Ansys Desktop v2020.2.0\n",
      "INFO 02:31PM [load_ansys_project]: \tOpened Ansys Project\n",
      "\tFolder:    C:/Users/zlp/github/pyEPR/_example_files/\n",
      "\tProject:   pyEPR_tutorial1\n",
      "INFO 02:31PM [connect_design]: \tOpened active design\n",
      "\tDesign:    1. single_transmon [Solution type: Eigenmode]\n",
      "INFO 02:31PM [get_setup]: \tOpened setup `Setup1`  (<class 'pyEPR.ansys.HfssEMSetup'>)\n",
      "INFO 02:31PM [connect]: \tConnected to project \"pyEPR_tutorial1\" and design \"1. single_transmon\" 😀 \n",
      "\n"
     ]
    }
   ],
   "source": [
    "project_path = '..\\\\_example_files'\n",
    "project_name = 'pyEPR_tutorial1'\n",
    "design_name  = '1. single_transmon'\n",
    "\n",
    "pinfo = epr.ProjectInfo(project_path = project_path,\n",
    "                        project_name = project_name,\n",
    "                        design_name = design_name)"
   ]
  },
  {
   "cell_type": "code",
   "execution_count": 3,
   "metadata": {},
   "outputs": [],
   "source": [
    "# Qubit junction\n",
    "pinfo.junctions['junction'] = {'Lj_variable' : 'Lj_1',\n",
    "                                'rect' : 'rect_jj1',\n",
    "                                'line' : 'line_jj1'}\n",
    "pinfo.validate_junction_info()                                "
   ]
  },
  {
   "cell_type": "code",
   "execution_count": 4,
   "metadata": {},
   "outputs": [],
   "source": [
    "# Already existing setup\n",
    "setup_name = 'Setup1'"
   ]
  },
  {
   "cell_type": "markdown",
   "metadata": {},
   "source": [
    "## Add parametric sweep of each type"
   ]
  },
  {
   "cell_type": "markdown",
   "metadata": {},
   "source": [
    "### Single value\n",
    "Specify a single variable value\n",
    "\n",
    "(\"12nH\")"
   ]
  },
  {
   "cell_type": "code",
   "execution_count": 5,
   "metadata": {},
   "outputs": [
    {
     "name": "stdout",
     "output_type": "stream",
     "text": [
      "Inserting optimetrics setup `single_value` for simulation setup: `Setup1`\n"
     ]
    }
   ],
   "source": [
    "opti_name = \"single_value\"\n",
    "swp_params = ('12nH')\n",
    "swp_variable = 'Lj_1'\n",
    "\n",
    "sweep_settings = dict(\n",
    "    variable = swp_variable,\n",
    "    swp_type = 'single_value',\n",
    "    swp_params = swp_params,\n",
    "    name = opti_name,\n",
    "    setup_name = setup_name, \n",
    "    save_fields = True,\n",
    "    copy_mesh = True, \n",
    "    solve_with_copied_mesh_only = False, \n",
    "    setup_type = 'parametric'\n",
    ")\n",
    "\n",
    "# setup_name=None will use the first setup\n",
    "if opti_name not in pinfo.design.optimetrics.get_setup_names():\n",
    "    opti_setup = pinfo.design.optimetrics.create_setup(**sweep_settings)"
   ]
  },
  {
   "cell_type": "markdown",
   "metadata": {},
   "source": [
    "### Linear step\n",
    "Specify a linear range of values with a constant step size.\n",
    "\n",
    "(start, stop, step)"
   ]
  },
  {
   "cell_type": "code",
   "execution_count": 6,
   "metadata": {},
   "outputs": [
    {
     "name": "stdout",
     "output_type": "stream",
     "text": [
      "Inserting optimetrics setup `linear_step` for simulation setup: `Setup1`\n"
     ]
    }
   ],
   "source": [
    "opti_name = \"linear_step\"\n",
    "swp_variable = 'height'\n",
    "swp_params = ('30mm','36mm','1mm')\n",
    "\n",
    "# 'height' is a geometric variable so cannot copy mesh between passes\n",
    "\n",
    "sweep_settings = dict(\n",
    "    variable = swp_variable,\n",
    "    swp_type = 'linear_step',\n",
    "    swp_params = swp_params,\n",
    "    name = opti_name,\n",
    "    setup_name = setup_name, \n",
    "    save_fields = True,\n",
    "    copy_mesh = False, \n",
    "    solve_with_copied_mesh_only = False, \n",
    "    setup_type = 'parametric'\n",
    ")\n",
    "\n",
    "# setup_name=None will use the first setup\n",
    "if opti_name not in pinfo.design.optimetrics.get_setup_names():\n",
    "    opti_setup = pinfo.design.optimetrics.create_setup(**sweep_settings)"
   ]
  },
  {
   "cell_type": "markdown",
   "metadata": {},
   "source": [
    "### Linear count\n",
    "Specify a linear range of values and the number, or count of points within this range.\n",
    "\n",
    "(start, stop, count)"
   ]
  },
  {
   "cell_type": "code",
   "execution_count": 7,
   "metadata": {},
   "outputs": [
    {
     "name": "stdout",
     "output_type": "stream",
     "text": [
      "Inserting optimetrics setup `linear_count` for simulation setup: `Setup1`\n"
     ]
    }
   ],
   "source": [
    "opti_name = \"linear_count\"\n",
    "swp_variable = 'pad_gap'\n",
    "swp_params = ('80um', '120um', 5)\n",
    "\n",
    "sweep_settings = dict(\n",
    "    variable = swp_variable,\n",
    "    swp_type = 'linear_count',\n",
    "    swp_params = swp_params,\n",
    "    name = opti_name,\n",
    "    setup_name = setup_name, \n",
    "    save_fields = True,\n",
    "    copy_mesh = False, \n",
    "    solve_with_copied_mesh_only = False, \n",
    "    setup_type = 'parametric'\n",
    ")\n",
    "\n",
    "if opti_name not in pinfo.design.optimetrics.get_setup_names():\n",
    "    opti_setup = pinfo.design.optimetrics.create_setup(**sweep_settings)"
   ]
  },
  {
   "cell_type": "markdown",
   "metadata": {},
   "source": [
    "### Decade count\n",
    "Specify a logarithmic (base 10) series of values, and the number of values to calculate in each decade.\n",
    "\n",
    "(start, stop, count)"
   ]
  },
  {
   "cell_type": "code",
   "execution_count": 8,
   "metadata": {},
   "outputs": [
    {
     "name": "stdout",
     "output_type": "stream",
     "text": [
      "Inserting optimetrics setup `decade_count` for simulation setup: `Setup1`\n"
     ]
    }
   ],
   "source": [
    "opti_name = \"decade_count\"\n",
    "swp_variable = 'Lj_1'\n",
    "swp_params = ('12nH', '100nH', 5)\n",
    "\n",
    "sweep_settings = dict(\n",
    "    variable = swp_variable,\n",
    "    swp_type = 'decade_count',\n",
    "    swp_params = swp_params,\n",
    "    name = opti_name,\n",
    "    setup_name = setup_name, \n",
    "    save_fields = True,\n",
    "    copy_mesh = True, \n",
    "    solve_with_copied_mesh_only = False, \n",
    "    setup_type = 'parametric'\n",
    ")\n",
    "\n",
    "if opti_name not in pinfo.design.optimetrics.get_setup_names():\n",
    "    opti_setup = pinfo.design.optimetrics.create_setup(**sweep_settings)"
   ]
  },
  {
   "cell_type": "markdown",
   "metadata": {},
   "source": [
    "### Octave count\n",
    "Specify a logarithmic (base 2) series of values, and the number of values to calculate in each octave.\n",
    "\n",
    "(start, stop, count)"
   ]
  },
  {
   "cell_type": "code",
   "execution_count": 9,
   "metadata": {},
   "outputs": [
    {
     "name": "stdout",
     "output_type": "stream",
     "text": [
      "Inserting optimetrics setup `octave_count` for simulation setup: `Setup1`\n"
     ]
    }
   ],
   "source": [
    "opti_name = \"octave_count\"\n",
    "swp_variable = 'Lj_1'\n",
    "swp_params = ('12nH', '100nH', 8)\n",
    "\n",
    "sweep_settings = dict(\n",
    "    variable = swp_variable,\n",
    "    swp_type = 'octave_count',\n",
    "    swp_params = swp_params,\n",
    "    name = opti_name,\n",
    "    setup_name = setup_name, \n",
    "    save_fields = True,\n",
    "    copy_mesh = True, \n",
    "    solve_with_copied_mesh_only = False, \n",
    "    setup_type = 'parametric'\n",
    ")\n",
    "\n",
    "# setup_name=None will use the first setup\n",
    "if opti_name not in pinfo.design.optimetrics.get_setup_names():\n",
    "    opti_setup = pinfo.design.optimetrics.create_setup(**sweep_settings)"
   ]
  },
  {
   "cell_type": "markdown",
   "metadata": {},
   "source": [
    "### Exponential count\n",
    "Specify an exponential (base e) series of values, and the number of values to calculate.\n",
    "\n",
    "(start, stop, count)"
   ]
  },
  {
   "cell_type": "code",
   "execution_count": 10,
   "metadata": {},
   "outputs": [
    {
     "name": "stdout",
     "output_type": "stream",
     "text": [
      "Inserting optimetrics setup `exponential_count` for simulation setup: `Setup1`\n"
     ]
    }
   ],
   "source": [
    "opti_name = \"exponential_count\"\n",
    "swp_variable = 'Lj_1'\n",
    "swp_params = ('12nH', '20nH', 4)\n",
    "\n",
    "sweep_settings = dict(\n",
    "    variable = swp_variable,\n",
    "    swp_type = 'exponential_count',\n",
    "    swp_params = swp_params,\n",
    "    name = opti_name,\n",
    "    setup_name = setup_name, \n",
    "    save_fields = True,\n",
    "    copy_mesh = True, \n",
    "    solve_with_copied_mesh_only = False, \n",
    "    setup_type = 'parametric'\n",
    ")\n",
    "\n",
    "# setup_name=None will use the first setup\n",
    "if opti_name not in pinfo.design.optimetrics.get_setup_names():\n",
    "    opti_setup = pinfo.design.optimetrics.create_setup(**sweep_settings)"
   ]
  },
  {
   "cell_type": "markdown",
   "metadata": {},
   "source": [
    "## Parametric from file\n",
    "Only sweep parameter is the filename of either csv or txt file. \n",
    "\n",
    "Need to give full path location to the file, so for purpose of tutorial need to get where pyEPR is installed."
   ]
  },
  {
   "cell_type": "code",
   "execution_count": 11,
   "metadata": {},
   "outputs": [],
   "source": [
    "import os\n",
    "cwd = os.getcwd()"
   ]
  },
  {
   "cell_type": "code",
   "execution_count": 12,
   "metadata": {},
   "outputs": [
    {
     "name": "stdout",
     "output_type": "stream",
     "text": [
      "Inserting optimetrics setup `param_file` for simulation setup: `Setup1`\n"
     ]
    }
   ],
   "source": [
    "opti_name = \"param_file\"\n",
    "swp_variable = 'Lj_1'\n",
    "filepath = cwd[:-len(\"_tutorial_notebooks\")] + \"_example_files\\\\\"\n",
    "filename = \"Lj_sweep_values.csv\"\n",
    "swp_params = filepath + filename\n",
    "\n",
    "sweep_settings = dict(\n",
    "    variable = swp_variable,\n",
    "    swp_type = 'file',\n",
    "    swp_params = swp_params,\n",
    "    name = opti_name,\n",
    "    setup_name = setup_name, \n",
    "    save_fields = True,\n",
    "    copy_mesh = True, \n",
    "    solve_with_copied_mesh_only = False, \n",
    "    setup_type = 'parametric_file'\n",
    ")\n",
    "\n",
    "# setup_name=None will use the first setup\n",
    "if opti_name not in pinfo.design.optimetrics.get_setup_names():\n",
    "    opti_setup = pinfo.design.optimetrics.create_setup(**sweep_settings)"
   ]
  },
  {
   "cell_type": "markdown",
   "metadata": {},
   "source": [
    "## Run the setup and a given optimetrics"
   ]
  },
  {
   "cell_type": "code",
   "execution_count": null,
   "metadata": {},
   "outputs": [],
   "source": [
    "analysis_setup = pinfo.design.get_setup(setup_name)\n",
    "analysis_setup.solve(setup_name)\n",
    "\n",
    "pinfo.design.optimetrics.solve_setup(\"param_file\")"
   ]
  },
  {
   "cell_type": "code",
   "execution_count": 13,
   "metadata": {},
   "outputs": [],
   "source": [
    "pinfo.disconnect()"
   ]
  }
 ],
 "metadata": {
  "kernelspec": {
   "display_name": "Python 3.9.12 ('epr_39')",
   "language": "python",
   "name": "python3"
  },
  "language_info": {
   "codemirror_mode": {
    "name": "ipython",
    "version": 3
   },
   "file_extension": ".py",
   "mimetype": "text/x-python",
   "name": "python",
   "nbconvert_exporter": "python",
   "pygments_lexer": "ipython3",
   "version": "3.9.12"
  },
  "orig_nbformat": 4,
  "vscode": {
   "interpreter": {
    "hash": "666176c80ac0b190efa7fb0fb35072d7c3fb2f81b4cb07356ffe3dd6a24ca381"
   }
  }
 },
 "nbformat": 4,
 "nbformat_minor": 2
}
